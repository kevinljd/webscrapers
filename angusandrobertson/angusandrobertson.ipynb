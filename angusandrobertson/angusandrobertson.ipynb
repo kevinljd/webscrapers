{
 "cells": [
  {
   "cell_type": "code",
   "execution_count": 8,
   "metadata": {},
   "outputs": [],
   "source": [
    "from bs4 import BeautifulSoup\n",
    "import requests\n",
    "import time\n",
    "\n",
    "l = []\n",
    "for index in range(0,3):\n",
    "    base_url = f'https://www.angusrobertson.com.au/search?q=%3Arelevancy%3AdeliveryTimeFrame%3ASTOCKSUPPLIER%3AdeliveryTimeFrame%3APREORDER%3AdeliveryTimeFrame%3ABACKORDER%3AdeliveryTimeFrame%3AFAST&categoryCode=B_B&page={index}&viewAs=&sort=relevancy&text='\n",
    "    \n",
    "    r = requests.get(base_url)\n",
    "    c = r.content\n",
    "    soup = BeautifulSoup(c, 'html.parser')\n",
    "\n",
    "    all = soup.find_all('div', {'class':'productItem'})\n",
    "    for item in all:\n",
    "        d = {}\n",
    "        d['Title'] = item.find('div', {'class':'title-block'}).text.replace('\\n','')\n",
    "        d['Authors'] = item.find('div', {'class':'authors'}).text.replace('\\n','').replace('\\t\\tby ', '')\n",
    "        d['Format'] = item.find('div', {'class':'format'}).text.replace('\\n','').replace('\\t','')\n",
    "        rrp = item.find('span', {'class':'rrp'}).text.replace('\\n','').replace('\\t','').replace('RRP','').replace('\\xa0','')\n",
    "        ar_price = item.find('span', {'class':'loyalty'}).text.replace('\\n','').replace('\\t','').replace('\\r','').replace(' ','')\n",
    "        d['RRP'] = rrp\n",
    "        d['A&R Price'] = ar_price\n",
    "        try:\n",
    "            savings = float(rrp[1:]) - float(ar_price[1:])\n",
    "            d['Savings'] = savings\n",
    "        except:\n",
    "            d['Savings'] = None\n",
    "        d['Page'] = index + 1\n",
    "        l.append(d)\n",
    "    \n",
    "    time.sleep(10)"
   ]
  },
  {
   "cell_type": "code",
   "execution_count": 10,
   "metadata": {},
   "outputs": [],
   "source": [
    "import pandas\n",
    "\n",
    "df = pandas.DataFrame(l)\n",
    "df.to_csv('Price_list.csv')\n"
   ]
  }
 ],
 "metadata": {
  "kernelspec": {
   "display_name": "Python 3",
   "language": "python",
   "name": "python3"
  },
  "language_info": {
   "codemirror_mode": {
    "name": "ipython",
    "version": 3
   },
   "file_extension": ".py",
   "mimetype": "text/x-python",
   "name": "python",
   "nbconvert_exporter": "python",
   "pygments_lexer": "ipython3",
   "version": "3.7.0"
  }
 },
 "nbformat": 4,
 "nbformat_minor": 2
}
